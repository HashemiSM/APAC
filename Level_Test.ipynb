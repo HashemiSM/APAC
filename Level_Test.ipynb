{
  "cells": [
    {
      "cell_type": "markdown",
      "metadata": {
        "id": "view-in-github",
        "colab_type": "text"
      },
      "source": [
        "<a href=\"https://colab.research.google.com/github/HashemiSM/APAC/blob/main/Level_Test.ipynb\" target=\"_parent\"><img src=\"https://colab.research.google.com/assets/colab-badge.svg\" alt=\"Open In Colab\"/></a>"
      ]
    },
    {
      "cell_type": "markdown",
      "metadata": {
        "id": "vSJjQeFgE5Jq"
      },
      "source": [
        "![alt text](https://apac.ee.kntu.ac.ir/wp-content/uploads/2024/09/apacgroup-logo.svg)"
      ]
    },
    {
      "cell_type": "markdown",
      "metadata": {
        "id": "eTrtlxFFE5Ju"
      },
      "source": [
        "# Level Test\n",
        "### Note: people who can answer this test **do not** need to attend first 50 hour of Python course"
      ]
    },
    {
      "cell_type": "markdown",
      "metadata": {
        "id": "nlOzqt2uE5Jv"
      },
      "source": [
        "The questions will be given and you sould code in the box below"
      ]
    },
    {
      "cell_type": "markdown",
      "metadata": {
        "id": "LQnRop4iE5Jw"
      },
      "source": [
        "# Q1 :\n",
        "calaulate the mod of three digit prime number(choose on your own) to 2 and proof that it is True\n",
        "\n"
      ]
    },
    {
      "cell_type": "code",
      "execution_count": 11,
      "metadata": {
        "vscode": {
          "languageId": "plaintext"
        },
        "id": "e_Dlx1TME5Jx",
        "colab": {
          "base_uri": "https://localhost:8080/"
        },
        "outputId": "f8ac9b63-31f0-4f66-8948-5a7837232217"
      },
      "outputs": [
        {
          "output_type": "stream",
          "name": "stdout",
          "text": [
            "enter a three digit primr number:502\n",
            "it is not a prime number\n"
          ]
        }
      ],
      "source": [
        "Prime = input('enter a three digit primr number:')\n",
        "\n",
        "Mod_res = int(Prime)%2\n",
        "\n",
        "if  Mod_res == 1 :\n",
        "  print('OK, it is a prime number')\n",
        "else:\n",
        "  print('it is not a prime number')\n"
      ]
    },
    {
      "cell_type": "markdown",
      "metadata": {
        "id": "45ToilXgE5Jy"
      },
      "source": [
        "# Q2:\n",
        "code to get two string first print the type of input and then put them together(give it your name and last name)\n"
      ]
    },
    {
      "cell_type": "code",
      "execution_count": 12,
      "metadata": {
        "vscode": {
          "languageId": "plaintext"
        },
        "id": "7_8kx8TRE5Jz",
        "colab": {
          "base_uri": "https://localhost:8080/"
        },
        "outputId": "15f36839-3a59-4959-c1aa-d1d79f724628"
      },
      "outputs": [
        {
          "output_type": "stream",
          "name": "stdout",
          "text": [
            "enter yor name:mohsen\n",
            "enter your last name:hashemi\n",
            "Hi mohsen hashemi\n"
          ]
        }
      ],
      "source": [
        "first_name = input('enter yor name:')\n",
        "last_name = input('enter your last name:')\n",
        "n_l = first_name + \" \" + last_name\n",
        "print (f'Hi {n_l}')"
      ]
    },
    {
      "cell_type": "markdown",
      "metadata": {
        "id": "fg0puYn3E5J0"
      },
      "source": [
        "# Q3:\n",
        "create a list with 5 member and change the the three one to Iran"
      ]
    },
    {
      "cell_type": "code",
      "execution_count": 16,
      "metadata": {
        "vscode": {
          "languageId": "plaintext"
        },
        "id": "ubky9QFxE5J1",
        "colab": {
          "base_uri": "https://localhost:8080/"
        },
        "outputId": "04bd2b6f-da2c-402c-c050-9be3f52e2efa"
      },
      "outputs": [
        {
          "output_type": "stream",
          "name": "stdout",
          "text": [
            "['ali', 'hadi', 'zahra', 'mahdi', 'mohammad']\n"
          ]
        },
        {
          "output_type": "execute_result",
          "data": {
            "text/plain": [
              "['iran', 'iran', 'iran', 'mahdi', 'mohammad']"
            ]
          },
          "metadata": {},
          "execution_count": 16
        }
      ],
      "source": [
        "lst = [ 'ali' , 'hadi' , 'zahra' , 'mahdi' , 'mohammad']\n",
        "print(lst)\n",
        "lst[0:3] = ['iran']*3\n",
        "lst"
      ]
    },
    {
      "cell_type": "markdown",
      "metadata": {
        "id": "KOgXkVb3E5J1"
      },
      "source": [
        "# Q4:\n",
        "create a dictionary with 5 member assign a b c d e to 1 to 5 and print Dictionary items"
      ]
    },
    {
      "cell_type": "code",
      "execution_count": 27,
      "metadata": {
        "vscode": {
          "languageId": "plaintext"
        },
        "id": "FNYReoerE5J2",
        "colab": {
          "base_uri": "https://localhost:8080/"
        },
        "outputId": "75fe1367-b9be-4114-e4b1-6bee124b4aa7"
      },
      "outputs": [
        {
          "output_type": "stream",
          "name": "stdout",
          "text": [
            "a: 1\n",
            "b: 2\n",
            "c: 3\n",
            "d: 4\n",
            "e: 5\n"
          ]
        }
      ],
      "source": [
        "my_dict = {'a':1 , 'b':2 , 'c':3, 'd':4 , 'e':5}\n",
        "\n",
        "for key, value in my_dict.items():\n",
        "    print(f\"{key}: {value}\")"
      ]
    },
    {
      "cell_type": "markdown",
      "metadata": {
        "id": "-ox6nN_HE5J3"
      },
      "source": [
        "# Q5:\n",
        "Open an existing file in your computer and print last line(you can make a txt file then do it)"
      ]
    },
    {
      "cell_type": "code",
      "execution_count": null,
      "metadata": {
        "vscode": {
          "languageId": "plaintext"
        },
        "id": "xFiT6n_2E5J3"
      },
      "outputs": [],
      "source": [
        "with open('my_file.txt', 'r') as file:\n",
        "    lines = file.readlines()\n",
        "    if lines:  # اگر فایل خالی نبود\n",
        "        last_line = lines[-1].strip()\n",
        "        print(\"Last line:\", last_line)\n",
        "    else:\n",
        "        print(\"The file is empty.\")"
      ]
    },
    {
      "cell_type": "markdown",
      "metadata": {
        "id": "XaCtdgR1E5J4"
      },
      "source": [
        "# Q6:\n",
        "Check 255 is greater than 188 and 255 is smaller than 189 in one line"
      ]
    },
    {
      "cell_type": "code",
      "execution_count": 31,
      "metadata": {
        "vscode": {
          "languageId": "plaintext"
        },
        "id": "Icq_gtfCE5J4",
        "colab": {
          "base_uri": "https://localhost:8080/"
        },
        "outputId": "917bed6c-dd58-4754-8548-504a0288530e"
      },
      "outputs": [
        {
          "output_type": "stream",
          "name": "stdout",
          "text": [
            "False\n"
          ]
        }
      ],
      "source": [
        "if (255 > 188) & (255 <189):\n",
        "  print(\"True\")\n",
        "else:\n",
        "  print(\"False\")"
      ]
    },
    {
      "cell_type": "markdown",
      "metadata": {
        "id": "pXklnxtPE5J5"
      },
      "source": [
        "# Q7:\n",
        "assign a your name to variable name person check it among your friends name if its true print 'HOORA'"
      ]
    },
    {
      "cell_type": "code",
      "execution_count": 36,
      "metadata": {
        "vscode": {
          "languageId": "plaintext"
        },
        "id": "a2YTstdME5J5",
        "colab": {
          "base_uri": "https://localhost:8080/"
        },
        "outputId": "3d828182-eb7c-4f82-f7b8-7b06d82d3ad0"
      },
      "outputs": [
        {
          "output_type": "stream",
          "name": "stdout",
          "text": [
            "Enter your name:Ali\n",
            "Hoora!\n"
          ]
        }
      ],
      "source": [
        "the_frinds_lst = ['Ali' , 'hassan' , 'Taha', 'Reza']\n",
        "your_name = input(\"Enter your name:\")\n",
        "if your_name in the_frinds_lst:\n",
        "  print(\"Hoora!\")\n",
        "else:\n",
        "  print('oooops!')"
      ]
    },
    {
      "cell_type": "markdown",
      "metadata": {
        "id": "-MJE3-SlE5J6"
      },
      "source": [
        "# Q8:\n",
        "create a list 1 to 10 then check for even numbers then print all using for loops"
      ]
    },
    {
      "cell_type": "code",
      "execution_count": 49,
      "metadata": {
        "vscode": {
          "languageId": "plaintext"
        },
        "id": "OhcV89pNE5J7",
        "colab": {
          "base_uri": "https://localhost:8080/"
        },
        "outputId": "4e6dca84-4e84-43ca-87a0-768f4890fbda"
      },
      "outputs": [
        {
          "output_type": "stream",
          "name": "stdout",
          "text": [
            "2\n",
            "4\n",
            "6\n",
            "8\n",
            "10\n"
          ]
        }
      ],
      "source": [
        "import numpy as np\n",
        "lst = np.arange(1,11)\n",
        "for n in lst:\n",
        "  if n%2 == 0:\n",
        "    print(n)\n"
      ]
    },
    {
      "cell_type": "markdown",
      "metadata": {
        "id": "WsR-jWeQE5J7"
      },
      "source": [
        "# Q9:\n",
        "consider x is 12 while x is between 10 to 15 print good else continue"
      ]
    },
    {
      "cell_type": "code",
      "execution_count": 50,
      "metadata": {
        "vscode": {
          "languageId": "plaintext"
        },
        "id": "gH1zJx5AE5J8",
        "colab": {
          "base_uri": "https://localhost:8080/"
        },
        "outputId": "897e3fc3-5463-4fa7-a3a0-a7bc8d9787b7"
      },
      "outputs": [
        {
          "output_type": "stream",
          "name": "stdout",
          "text": [
            "good\n"
          ]
        }
      ],
      "source": [
        "x = 12\n",
        "while True:\n",
        "    if 10 <= x <= 15:\n",
        "        print(\"good\")\n",
        "        break\n",
        "    else:\n",
        "        continue\n"
      ]
    },
    {
      "cell_type": "markdown",
      "metadata": {
        "id": "PhkeseK_E5J8"
      },
      "source": [
        "# Q10:\n",
        "make a list from 0 to 10000 with step of 100 using \"range\" shuffle this list and pick index 10"
      ]
    },
    {
      "cell_type": "code",
      "execution_count": 56,
      "metadata": {
        "vscode": {
          "languageId": "plaintext"
        },
        "id": "IdJapTXTE5J8",
        "colab": {
          "base_uri": "https://localhost:8080/"
        },
        "outputId": "7a26f834-19eb-453d-d53e-88f01c498852"
      },
      "outputs": [
        {
          "output_type": "stream",
          "name": "stdout",
          "text": [
            "200\n"
          ]
        }
      ],
      "source": [
        "import random\n",
        "lst = list(range(0,10000, 100))\n",
        "random.shuffle(lst)\n",
        "print(lst[10])"
      ]
    },
    {
      "cell_type": "markdown",
      "metadata": {
        "id": "K_y96jLCE5J9"
      },
      "source": [
        "# Q11:\n",
        "Consider list of 1 to 5 append 6 in it and count even number in it using a function"
      ]
    },
    {
      "cell_type": "code",
      "execution_count": 66,
      "metadata": {
        "vscode": {
          "languageId": "plaintext"
        },
        "id": "rLu514ssE5J9",
        "colab": {
          "base_uri": "https://localhost:8080/"
        },
        "outputId": "1e0f5789-8542-47a0-e567-36f4c7f733ce"
      },
      "outputs": [
        {
          "output_type": "stream",
          "name": "stdout",
          "text": [
            "3\n"
          ]
        }
      ],
      "source": [
        "my_lst = [1, 2, 3, 4, 5]\n",
        "\n",
        "def count_even(lst):\n",
        "    counter = 0\n",
        "    for item in lst:\n",
        "        if item%2 == 0:\n",
        "            counter += 1\n",
        "    return counter\n",
        "\n",
        "my_lst.append(6)\n",
        "res = count_even(my_lst)\n",
        "\n",
        "print(res)"
      ]
    },
    {
      "cell_type": "markdown",
      "metadata": {
        "id": "gnoEl8riE5J9"
      },
      "source": [
        "# Q12:\n",
        "write a function that get string and uppercase the first letter if it's capital print it's True"
      ]
    },
    {
      "cell_type": "code",
      "execution_count": 75,
      "metadata": {
        "vscode": {
          "languageId": "plaintext"
        },
        "id": "8PI6bVXpE5J9",
        "colab": {
          "base_uri": "https://localhost:8080/"
        },
        "outputId": "5d5e4c4e-66bc-4a82-fb82-072f972df393"
      },
      "outputs": [
        {
          "output_type": "stream",
          "name": "stdout",
          "text": [
            "a word:Ali\n",
            "Ali is TRUE!\n"
          ]
        }
      ],
      "source": [
        "def my_f1(str_w):\n",
        "  if str_w[0].isupper():\n",
        "    print(f'{str_w} is TRUE!')\n",
        "  else:\n",
        "    upper=str_w[0].capitalize()\n",
        "    return upper + str_w[ 1:]\n",
        "\n",
        "in_str = input(\"a word:\")\n",
        "my_f1(in_str)"
      ]
    }
  ],
  "metadata": {
    "language_info": {
      "name": "python"
    },
    "colab": {
      "provenance": [],
      "include_colab_link": true
    },
    "kernelspec": {
      "name": "python3",
      "display_name": "Python 3"
    }
  },
  "nbformat": 4,
  "nbformat_minor": 0
}